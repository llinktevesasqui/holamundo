{
 "cells": [
  {
   "cell_type": "code",
   "execution_count": 2,
   "id": "a06f688c",
   "metadata": {},
   "outputs": [
    {
     "name": "stdout",
     "output_type": "stream",
     "text": [
      "hola mundo\n"
     ]
    }
   ],
   "source": [
    "print (\"hola mundo\");\n"
   ]
  },
  {
   "cell_type": "code",
   "execution_count": 3,
   "id": "d215d147",
   "metadata": {},
   "outputs": [
    {
     "name": "stdout",
     "output_type": "stream",
     "text": [
      "2021-09-02 20:14:47.623814\n",
      "20:14:47.623814\n",
      "2021-09-02\n",
      "hora:  20 minuto:  00:00:00\n",
      "2021 9 2\n"
     ]
    }
   ],
   "source": [
    "import datetime\n",
    "\n",
    "hora_fecha_actual = datetime.datetime.now()\n",
    "\n",
    "print(hora_fecha_actual)\n",
    "\n",
    "hora = hora_fecha_actual.time()\n",
    "fecha = hora_fecha_actual.date()\n",
    "\n",
    "print (hora)\n",
    "print (fecha)\n",
    "\n",
    "print ( \"hora: \",hora.hour,\"minuto: \", hora.min)\n",
    "print (fecha.year, fecha.month, fecha.day)\n"
   ]
  },
  {
   "cell_type": "code",
   "execution_count": null,
   "id": "e46ff248",
   "metadata": {},
   "outputs": [],
   "source": []
  },
  {
   "cell_type": "code",
   "execution_count": null,
   "id": "6424c65b",
   "metadata": {},
   "outputs": [],
   "source": []
  }
 ],
 "metadata": {
  "kernelspec": {
   "display_name": "Python 3",
   "language": "python",
   "name": "python3"
  },
  "language_info": {
   "codemirror_mode": {
    "name": "ipython",
    "version": 3
   },
   "file_extension": ".py",
   "mimetype": "text/x-python",
   "name": "python",
   "nbconvert_exporter": "python",
   "pygments_lexer": "ipython3",
   "version": "3.8.8"
  }
 },
 "nbformat": 4,
 "nbformat_minor": 5
}
